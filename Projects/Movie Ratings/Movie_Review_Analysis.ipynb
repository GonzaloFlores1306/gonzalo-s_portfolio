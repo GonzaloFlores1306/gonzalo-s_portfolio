{
 "cells": [
  {
   "cell_type": "markdown",
   "id": "18e27f4a-5ba0-4ed9-a4bf-94d664375d76",
   "metadata": {},
   "source": [
    "# Importing all the libraries"
   ]
  },
  {
   "cell_type": "code",
   "execution_count": 2,
   "id": "024f6e45-0562-48ca-ad34-6f874cf08f1e",
   "metadata": {},
   "outputs": [],
   "source": [
    "import warnings\n",
    "warnings.filterwarnings('ignore') #Detect Errors"
   ]
  },
  {
   "cell_type": "code",
   "execution_count": 4,
   "id": "ef300d6e-249e-4df3-8085-b1dd3678d87f",
   "metadata": {},
   "outputs": [],
   "source": [
    "import pandas as pd #DataFrames\n",
    "import numpy as np #Arrays\n",
    "import matplotlib.pyplot as plt #Graphics and Visualizations\n",
    "import statistics as st #Simple statistics(mean, median, mope, etc)\n",
    "import seaborn as sns #Statistics visualizations\n",
    "from scipy.stats import skew #asymmetry of a distribution\n",
    "from scipy.stats import kurtosis #curtosis of a distribution\n",
    "\n",
    "import os #To obtain the workspace\n",
    "\n",
    "#Setting a random seed to predict data\n",
    "np.random.seed(1306)"
   ]
  },
  {
   "cell_type": "code",
   "execution_count": 5,
   "id": "3877d3b2-6dd6-4001-845d-db4f1c4f68e6",
   "metadata": {
    "scrolled": true
   },
   "outputs": [
    {
     "data": {
      "text/html": [
       "<div>\n",
       "<style scoped>\n",
       "    .dataframe tbody tr th:only-of-type {\n",
       "        vertical-align: middle;\n",
       "    }\n",
       "\n",
       "    .dataframe tbody tr th {\n",
       "        vertical-align: top;\n",
       "    }\n",
       "\n",
       "    .dataframe thead th {\n",
       "        text-align: right;\n",
       "    }\n",
       "</style>\n",
       "<table border=\"1\" class=\"dataframe\">\n",
       "  <thead>\n",
       "    <tr style=\"text-align: right;\">\n",
       "      <th></th>\n",
       "      <th>Unnamed: 0</th>\n",
       "      <th>id</th>\n",
       "      <th>title</th>\n",
       "      <th>rating</th>\n",
       "      <th>genre</th>\n",
       "      <th>year</th>\n",
       "    </tr>\n",
       "  </thead>\n",
       "  <tbody>\n",
       "    <tr>\n",
       "      <th>0</th>\n",
       "      <td>0</td>\n",
       "      <td>tt0369610</td>\n",
       "      <td>Jurassic World</td>\n",
       "      <td>6.9</td>\n",
       "      <td>Action, Adventure, Sci-Fi</td>\n",
       "      <td>2015</td>\n",
       "    </tr>\n",
       "    <tr>\n",
       "      <th>1</th>\n",
       "      <td>1</td>\n",
       "      <td>tt3774694</td>\n",
       "      <td>Love</td>\n",
       "      <td>6.1</td>\n",
       "      <td>Drama, Romance</td>\n",
       "      <td>2015</td>\n",
       "    </tr>\n",
       "    <tr>\n",
       "      <th>2</th>\n",
       "      <td>2</td>\n",
       "      <td>tt2361509</td>\n",
       "      <td>The Intern</td>\n",
       "      <td>7.1</td>\n",
       "      <td>Comedy, Drama</td>\n",
       "      <td>2015</td>\n",
       "    </tr>\n",
       "    <tr>\n",
       "      <th>3</th>\n",
       "      <td>3</td>\n",
       "      <td>tt2381249</td>\n",
       "      <td>Mission: Impossible - Rogue Nation</td>\n",
       "      <td>7.4</td>\n",
       "      <td>Action, Adventure, Thriller</td>\n",
       "      <td>2015</td>\n",
       "    </tr>\n",
       "    <tr>\n",
       "      <th>4</th>\n",
       "      <td>4</td>\n",
       "      <td>tt3460252</td>\n",
       "      <td>The Hateful Eight</td>\n",
       "      <td>7.8</td>\n",
       "      <td>Crime, Drama, Mystery</td>\n",
       "      <td>2015</td>\n",
       "    </tr>\n",
       "  </tbody>\n",
       "</table>\n",
       "</div>"
      ],
      "text/plain": [
       "   Unnamed: 0         id                               title  rating  \\\n",
       "0           0  tt0369610                      Jurassic World     6.9   \n",
       "1           1  tt3774694                                Love     6.1   \n",
       "2           2  tt2361509                          The Intern     7.1   \n",
       "3           3  tt2381249  Mission: Impossible - Rogue Nation     7.4   \n",
       "4           4  tt3460252                   The Hateful Eight     7.8   \n",
       "\n",
       "                         genre  year  \n",
       "0    Action, Adventure, Sci-Fi  2015  \n",
       "1               Drama, Romance  2015  \n",
       "2                Comedy, Drama  2015  \n",
       "3  Action, Adventure, Thriller  2015  \n",
       "4        Crime, Drama, Mystery  2015  "
      ]
     },
     "execution_count": 5,
     "metadata": {},
     "output_type": "execute_result"
    }
   ],
   "source": [
    "#There's 2 datasets:\n",
    "#list: A unique dataset with the characteristics of the films. Has a relation 1 to many with reviews\n",
    "#reviews: A dataset that inherits the list id as a foreign key\n",
    "path_list = 'data/imdb_list.csv'\n",
    "df_list = pd.read_csv(path_list, sep=',')\n",
    "df_list.head()"
   ]
  },
  {
   "cell_type": "markdown",
   "id": "22a85578-2550-4765-aea5-0bfe9db14cfb",
   "metadata": {},
   "source": [
    "# Analyzing the list DataFrame\n"
   ]
  },
  {
   "cell_type": "code",
   "execution_count": 7,
   "id": "d86bfec0-c2f9-4319-897e-21c70eb1abdf",
   "metadata": {},
   "outputs": [
    {
     "name": "stdout",
     "output_type": "stream",
     "text": [
      "<class 'pandas.core.frame.DataFrame'>\n",
      "RangeIndex: 250 entries, 0 to 249\n",
      "Data columns (total 6 columns):\n",
      " #   Column      Non-Null Count  Dtype  \n",
      "---  ------      --------------  -----  \n",
      " 0   Unnamed: 0  250 non-null    int64  \n",
      " 1   id          250 non-null    object \n",
      " 2   title       250 non-null    object \n",
      " 3   rating      250 non-null    float64\n",
      " 4   genre       250 non-null    object \n",
      " 5   year        250 non-null    int64  \n",
      "dtypes: float64(1), int64(2), object(3)\n",
      "memory usage: 11.8+ KB\n"
     ]
    }
   ],
   "source": [
    "df_list.info() #We have no nulls in this data"
   ]
  },
  {
   "cell_type": "code",
   "execution_count": 8,
   "id": "973ffaaf-9f50-4e39-aa22-7812fd1c4ed3",
   "metadata": {},
   "outputs": [
    {
     "name": "stdout",
     "output_type": "stream",
     "text": [
      "-------------------- QUANTITY OF ROWS AND COLUMNS --------------------\n",
      "Rows: 250\n",
      "Columns: 6\n",
      "----------------------------- Data Types -----------------------------\n",
      "Unnamed: 0      int64\n",
      "id             object\n",
      "title          object\n",
      "rating        float64\n",
      "genre          object\n",
      "year            int64\n",
      "dtype: object\n",
      "-------------------------------- HEAD --------------------------------\n",
      "   Unnamed: 0         id                               title  rating  \\\n",
      "0           0  tt0369610                      Jurassic World     6.9   \n",
      "1           1  tt3774694                                Love     6.1   \n",
      "2           2  tt2361509                          The Intern     7.1   \n",
      "3           3  tt2381249  Mission: Impossible - Rogue Nation     7.4   \n",
      "4           4  tt3460252                   The Hateful Eight     7.8   \n",
      "\n",
      "                         genre  year  \n",
      "0    Action, Adventure, Sci-Fi  2015  \n",
      "1               Drama, Romance  2015  \n",
      "2                Comedy, Drama  2015  \n",
      "3  Action, Adventure, Thriller  2015  \n",
      "4        Crime, Drama, Mystery  2015  \n",
      "\n",
      "-------------------------------- TAIL --------------------------------\n",
      "     Unnamed: 0          id                 title  rating  \\\n",
      "245         245  tt18259086  Sonic the Hedgehog 3     6.9   \n",
      "246         246  tt21382296              Carry-On     6.5   \n",
      "247         247  tt28249919              Presence     6.1   \n",
      "248         248  tt17279496             Civil War     7.0   \n",
      "249         249  tt27403986              Juror #2     7.0   \n",
      "\n",
      "                         genre  year  \n",
      "245  Action, Adventure, Comedy  2024  \n",
      "246    Action, Crime, Thriller  2024  \n",
      "247    Drama, Horror, Thriller  2024  \n",
      "248           Action, Thriller  2024  \n",
      "249      Crime, Drama, Mystery  2024  \n",
      "\n",
      "----------------------------- LOST DATA ------------------------------\n",
      "Unnamed: 0    0\n",
      "id            0\n",
      "title         0\n",
      "rating        0\n",
      "genre         0\n",
      "year          0\n",
      "dtype: int64\n",
      "\n",
      "----------------------------- DUPLICATED -----------------------------\n",
      "0\n",
      "\n",
      "----------------------------- QUANITLES ------------------------------\n",
      "              0.00     0.05    0.50     0.95     0.99    1.00\n",
      "Unnamed: 0     0.0    12.45   124.5   236.55   246.51   249.0\n",
      "rating         6.0     6.30     7.3     8.30     8.50     8.7\n",
      "year        2015.0  2015.00  2019.5  2024.00  2024.00  2024.0\n"
     ]
    }
   ],
   "source": [
    "#Method to analyze all the dataframes\n",
    "def check_data(dataframe, head=5):\n",
    "    print(\" QUANTITY OF ROWS AND COLUMNS \".center(70,'-'))\n",
    "    print('Rows: {}'.format(dataframe.shape[0]))\n",
    "    print('Columns: {}'.format(dataframe.shape[1]))\n",
    "    print(\" Data Types \".center(70,'-'))\n",
    "    print(dataframe.dtypes)\n",
    "    print(\" HEAD \".center(70,'-'))\n",
    "    print(dataframe.head(head))\n",
    "    print()\n",
    "    print(\" TAIL \".center(70,'-'))\n",
    "    print(dataframe.tail(head))\n",
    "    print()\n",
    "    print(\" LOST DATA \".center(70,'-'))\n",
    "    print(dataframe.isnull().sum())\n",
    "    print()\n",
    "    print(\" DUPLICATED \".center(70,'-'))\n",
    "    print(dataframe.duplicated().sum())\n",
    "    print()\n",
    "    print(\" QUANITLES \".center(70,'-'))\n",
    "    df_num = dataframe.select_dtypes(include=['number'])\n",
    "    print(df_num.quantile([0, 0.05, 0.50, 0.95, 0.99, 1]).T)\n",
    "\n",
    "check_data(df_list)"
   ]
  },
  {
   "cell_type": "code",
   "execution_count": 13,
   "id": "15700eca-bc15-4237-858d-b642290566e3",
   "metadata": {},
   "outputs": [
    {
     "name": "stdout",
     "output_type": "stream",
     "text": [
      "Mean: 7.2804\n",
      "Median: 7.3\n",
      "Mode: 7.1\n"
     ]
    }
   ],
   "source": [
    "#The highest raiting of any film is 8.7\n",
    "#The data we have if from 2015 to 2024\n",
    "\n",
    "#Now, we want to analyze the statistics from the rating\n",
    "# Mean\n",
    "mean = st.mean(df_list['rating'])\n",
    "print('Mean:', mean)\n",
    "\n",
    "# Median\n",
    "median = st.median(df_list['rating'])\n",
    "print('Median:', median)\n",
    "\n",
    "# Mode\n",
    "mode = st.mode(df_list['rating'])\n",
    "print('Mode:', mode)"
   ]
  },
  {
   "cell_type": "code",
   "execution_count": 15,
   "id": "f62fee51-f30c-4e4d-ba65-9a8a3779de1a",
   "metadata": {},
   "outputs": [
    {
     "name": "stdout",
     "output_type": "stream",
     "text": [
      "Top 5 Ratings Frequency:\n",
      "rating\n",
      "7.1    18\n",
      "7.4    18\n",
      "7.8    17\n",
      "7.3    15\n",
      "7.6    15\n",
      "Name: count, dtype: int64\n"
     ]
    }
   ],
   "source": [
    "print('Top 5 Ratings Frequency:')\n",
    "print(df_list['rating'].value_counts().head())"
   ]
  },
  {
   "cell_type": "markdown",
   "id": "1f64d40e-d9ae-43f2-9f7b-6306f04ab7a1",
   "metadata": {},
   "source": [
    "## Data Visualization of the list"
   ]
  },
  {
   "cell_type": "code",
   "execution_count": 18,
   "id": "e79068db-5c61-461d-b0c3-fbb5b0e62597",
   "metadata": {},
   "outputs": [],
   "source": [
    "#We'll save all the graphics in the folder Data_Visualization_Graphics_List\n",
    "list_folder = 'Data_Visualization_Graphics_List' "
   ]
  },
  {
   "cell_type": "markdown",
   "id": "0454f44f-61a6-4486-80eb-d216880bd4ae",
   "metadata": {},
   "source": [
    "### 1.Number of films by genre"
   ]
  },
  {
   "cell_type": "code",
   "execution_count": 21,
   "id": "0ea801b3-8cb1-4424-8cdd-35b732ed711a",
   "metadata": {},
   "outputs": [
    {
     "data": {
      "image/png": "[encoded data removed]",
      "text/plain": [
       "<Figure size 1000x600 with 1 Axes>"
      ]
     },
     "metadata": {},
     "output_type": "display_data"
    },
    {
     "name": "stdout",
     "output_type": "stream",
     "text": [
      "Graphic saved in Data_Visualization_Graphics_List\\films_by_genre.png\n"
     ]
    }
   ],
   "source": [
    "#Creating a copy to not modify original data\n",
    "df_genre = df_list.copy()\n",
    "df_genre['genre'] = df_genre['genre'].str.split(', ') #Splitting the genres in the same row --> Adventure, Romance, Comedy --> ['Adventure','Romance','Comedy']\n",
    "df_genre = df_genre.explode('genre')\n",
    "\n",
    "genre_counts = df_genre['genre'].value_counts()\n",
    "\n",
    "#Figure and axis\n",
    "fig, ax = plt.subplots(figsize=(10, 6))\n",
    "\n",
    "#Draw graphic\n",
    "bars = ax.bar(genre_counts.index, genre_counts.values, color = 'skyblue', edgecolor = 'black')\n",
    "#x = genre names\n",
    "#y = number of films \n",
    "\n",
    "#Titles\n",
    "ax.set_title('Number of films by genre', fontsize = 16, fontweight = 'bold', color = '#333333')\n",
    "ax.set_ylabel('Number of films', fontsize = 12)\n",
    "ax.set_xlabel('Genre', fontsize = 12)\n",
    "ax.set_xticklabels(genre_counts.index, rotation = 45, ha = 'right', fontsize = 10) #45° to see the genre names\n",
    "\n",
    "for bar in bars:\n",
    "    yval = bar.get_height() #Obtain the height\n",
    "    ax.text(bar.get_x() + bar.get_width()/2, yval + 0.3, int(yval),\n",
    "           ha = 'center', va='bottom', fontsize = 9, fontweight = 'bold')\n",
    "\n",
    "plt.tight_layout()\n",
    "plt.show()\n",
    "\n",
    "#Save graphic\n",
    "name_file = os.path.join(list_folder, 'films_by_genre.png')\n",
    "fig.savefig(name_file, dpi = 300)\n",
    "print(f'Graphic saved in {name_file}')"
   ]
  },
  {
   "cell_type": "markdown",
   "id": "6d33fa48-4bec-43d7-a29c-32fef7071bfe",
   "metadata": {},
   "source": [
    "### 2.Official Rating Distribution"
   ]
  },
  {
   "cell_type": "code",
   "execution_count": 23,
   "id": "c22abdec-39d0-472b-b514-108a2d99a088",
   "metadata": {},
   "outputs": [
    {
     "data": {
      "image/png": "[encoded data removed]",
      "text/plain": [
       "<Figure size 1000x500 with 1 Axes>"
      ]
     },
     "metadata": {},
     "output_type": "display_data"
    },
    {
     "name": "stdout",
     "output_type": "stream",
     "text": [
      "Graphic saved in Data_Visualization_Graphics_List\\ratings_distribution.png\n"
     ]
    }
   ],
   "source": [
    "#Figure and axis\n",
    "fig, ax = plt.subplots(figsize=(10, 5))\n",
    "\n",
    "sns.histplot(df_list['rating'], bins = 10, kde = True, color = 'seagreen', edgecolor = 'black', linewidth = 1.2, ax = ax)\n",
    "\n",
    "ax.set_title('Ratings Distribution (IMDb)', fontsize = 10, fontweight = 'bold', color = '#2c3e50', pad=15)\n",
    "ax.set_xlabel('Rating IMDb', fontsize = 10)\n",
    "ax.set_ylabel('Frequency', fontsize = 10)\n",
    "\n",
    "\n",
    "#Personalized\n",
    "ax.grid(axis='y', linestyle = '--', alpha = 0.7)\n",
    "\n",
    "#White background\n",
    "fig.patch.set_facecolor('white')\n",
    "\n",
    "plt.tight_layout()\n",
    "plt.show()\n",
    "\n",
    "#Save graphic\n",
    "name_file = os.path.join(list_folder, 'ratings_distribution.png')\n",
    "fig.savefig(name_file, dpi = 300)\n",
    "print(f'Graphic saved in {name_file}')"
   ]
  },
  {
   "cell_type": "markdown",
   "id": "03899544-ac87-44d4-a1fc-4312a6a320e0",
   "metadata": {},
   "source": [
    "# Analyze the Reviews DataFrame"
   ]
  },
  {
   "cell_type": "code",
   "execution_count": 26,
   "id": "0d4d2a60-9012-4531-8983-736c1bb9f170",
   "metadata": {},
   "outputs": [
    {
     "data": {
      "text/html": [
       "<div>\n",
       "<style scoped>\n",
       "    .dataframe tbody tr th:only-of-type {\n",
       "        vertical-align: middle;\n",
       "    }\n",
       "\n",
       "    .dataframe tbody tr th {\n",
       "        vertical-align: top;\n",
       "    }\n",
       "\n",
       "    .dataframe thead th {\n",
       "        text-align: right;\n",
       "    }\n",
       "</style>\n",
       "<table border=\"1\" class=\"dataframe\">\n",
       "  <thead>\n",
       "    <tr style=\"text-align: right;\">\n",
       "      <th></th>\n",
       "      <th>imdb_id</th>\n",
       "      <th>review title</th>\n",
       "      <th>review_rating</th>\n",
       "      <th>review</th>\n",
       "    </tr>\n",
       "  </thead>\n",
       "  <tbody>\n",
       "    <tr>\n",
       "      <th>0</th>\n",
       "      <td>tt0369610</td>\n",
       "      <td>Spielberg Magic, This Is Not. Still, a Visit t...</td>\n",
       "      <td>7.0</td>\n",
       "      <td>You may have heard some critics champion Juras...</td>\n",
       "    </tr>\n",
       "    <tr>\n",
       "      <th>1</th>\n",
       "      <td>tt0369610</td>\n",
       "      <td>Not a patch on the original Jurassic Park, and...</td>\n",
       "      <td>7.0</td>\n",
       "      <td>The original Jurassic Park still is a personal...</td>\n",
       "    </tr>\n",
       "    <tr>\n",
       "      <th>2</th>\n",
       "      <td>tt0369610</td>\n",
       "      <td>Its a Jurassic World after all.</td>\n",
       "      <td>7.0</td>\n",
       "      <td>The 4th film in the Jurassic Park series and t...</td>\n",
       "    </tr>\n",
       "    <tr>\n",
       "      <th>3</th>\n",
       "      <td>tt0369610</td>\n",
       "      <td>Worthy Sequel To One Of The Greatest Films Eve...</td>\n",
       "      <td>NaN</td>\n",
       "      <td>Let's start this by stating how much of a die ...</td>\n",
       "    </tr>\n",
       "    <tr>\n",
       "      <th>4</th>\n",
       "      <td>tt0369610</td>\n",
       "      <td>Manages to somewhat return the Jurassic Park s...</td>\n",
       "      <td>6.0</td>\n",
       "      <td>Modernized and polished entry to the Jurassic ...</td>\n",
       "    </tr>\n",
       "  </tbody>\n",
       "</table>\n",
       "</div>"
      ],
      "text/plain": [
       "     imdb_id                                       review title  \\\n",
       "0  tt0369610  Spielberg Magic, This Is Not. Still, a Visit t...   \n",
       "1  tt0369610  Not a patch on the original Jurassic Park, and...   \n",
       "2  tt0369610                    Its a Jurassic World after all.   \n",
       "3  tt0369610  Worthy Sequel To One Of The Greatest Films Eve...   \n",
       "4  tt0369610  Manages to somewhat return the Jurassic Park s...   \n",
       "\n",
       "   review_rating                                             review  \n",
       "0            7.0  You may have heard some critics champion Juras...  \n",
       "1            7.0  The original Jurassic Park still is a personal...  \n",
       "2            7.0  The 4th film in the Jurassic Park series and t...  \n",
       "3            NaN  Let's start this by stating how much of a die ...  \n",
       "4            6.0  Modernized and polished entry to the Jurassic ...  "
      ]
     },
     "execution_count": 26,
     "metadata": {},
     "output_type": "execute_result"
    }
   ],
   "source": [
    "path_review = 'data/imdb_reviews.csv'\n",
    "df_review = pd.read_csv(path_review, sep=',')\n",
    "df_review.head()"
   ]
  },
  {
   "cell_type": "code",
   "execution_count": 27,
   "id": "3f2d2955-c003-474f-a554-7db0d57f7d84",
   "metadata": {},
   "outputs": [
    {
     "name": "stdout",
     "output_type": "stream",
     "text": [
      "<class 'pandas.core.frame.DataFrame'>\n",
      "RangeIndex: 6241 entries, 0 to 6240\n",
      "Data columns (total 4 columns):\n",
      " #   Column         Non-Null Count  Dtype  \n",
      "---  ------         --------------  -----  \n",
      " 0   imdb_id        6241 non-null   object \n",
      " 1   review title   6241 non-null   object \n",
      " 2   review_rating  5885 non-null   float64\n",
      " 3   review         6241 non-null   object \n",
      "dtypes: float64(1), object(3)\n",
      "memory usage: 195.2+ KB\n"
     ]
    }
   ],
   "source": [
    "df_review.info()"
   ]
  },
  {
   "cell_type": "code",
   "execution_count": 28,
   "id": "bf7ed73c-85a8-4e62-a281-a9c8c02ecd84",
   "metadata": {},
   "outputs": [
    {
     "name": "stdout",
     "output_type": "stream",
     "text": [
      "-------------------- QUANTITY OF ROWS AND COLUMNS --------------------\n",
      "Rows: 6241\n",
      "Columns: 4\n",
      "----------------------------- Data Types -----------------------------\n",
      "imdb_id           object\n",
      "review title      object\n",
      "review_rating    float64\n",
      "review            object\n",
      "dtype: object\n",
      "-------------------------------- HEAD --------------------------------\n",
      "     imdb_id                                       review title  \\\n",
      "0  tt0369610  Spielberg Magic, This Is Not. Still, a Visit t...   \n",
      "1  tt0369610  Not a patch on the original Jurassic Park, and...   \n",
      "2  tt0369610                    Its a Jurassic World after all.   \n",
      "3  tt0369610  Worthy Sequel To One Of The Greatest Films Eve...   \n",
      "4  tt0369610  Manages to somewhat return the Jurassic Park s...   \n",
      "\n",
      "   review_rating                                             review  \n",
      "0            7.0  You may have heard some critics champion Juras...  \n",
      "1            7.0  The original Jurassic Park still is a personal...  \n",
      "2            7.0  The 4th film in the Jurassic Park series and t...  \n",
      "3            NaN  Let's start this by stating how much of a die ...  \n",
      "4            6.0  Modernized and polished entry to the Jurassic ...  \n",
      "\n",
      "-------------------------------- TAIL --------------------------------\n",
      "         imdb_id                   review title  review_rating  \\\n",
      "6236  tt27403986                    About a man            9.0   \n",
      "6237  tt27403986  Not quite a unanimous verdict            6.0   \n",
      "6238  tt27403986          A house built on sand            5.0   \n",
      "6239  tt27403986       He's just a regular guy.            6.0   \n",
      "6240  tt27403986    What is your moral compass?           10.0   \n",
      "\n",
      "                                                 review  \n",
      "6236  Superb casting with Nicholas Hoult & Toni Coll...  \n",
      "6237  This movie had the potential to be a good one....  \n",
      "6238  I doubt that this case would ever have gone to...  \n",
      "6239  So decidedly un-Eastwood I was shocked when I ...  \n",
      "6240  This movie truly makes you reflect on life and...  \n",
      "\n",
      "----------------------------- LOST DATA ------------------------------\n",
      "imdb_id            0\n",
      "review title       0\n",
      "review_rating    356\n",
      "review             0\n",
      "dtype: int64\n",
      "\n",
      "----------------------------- DUPLICATED -----------------------------\n",
      "25\n",
      "\n",
      "----------------------------- QUANITLES ------------------------------\n",
      "               0.00  0.05  0.50  0.95  0.99  1.00\n",
      "review_rating   1.0   4.0   7.0  10.0  10.0  10.0\n"
     ]
    }
   ],
   "source": [
    "check_data(df_review)"
   ]
  },
  {
   "cell_type": "code",
   "execution_count": 32,
   "id": "31694b9b-b3e5-4185-ba31-ed94e418cae9",
   "metadata": {},
   "outputs": [],
   "source": [
    "#There're 356 NaN's values in review_rating. We'll clean that information\n",
    "df_review_clean = df_review.dropna(subset=['review_rating']) \n",
    "df_review_clean['review_rating'] = pd.to_numeric(df_review_clean['review_rating'], errors = 'coerce')\n",
    "#From now on, we'll work with review_rating"
   ]
  },
  {
   "cell_type": "code",
   "execution_count": 35,
   "id": "7f5da086-0ebb-4b38-955f-bf9ee0ee0f6f",
   "metadata": {},
   "outputs": [
    {
     "data": {
      "text/plain": [
       "review_rating\n",
       "7.0     1293\n",
       "6.0     1293\n",
       "10.0     931\n",
       "8.0      911\n",
       "9.0      797\n",
       "5.0      258\n",
       "4.0      133\n",
       "3.0      111\n",
       "1.0       91\n",
       "2.0       67\n",
       "Name: count, dtype: int64"
      ]
     },
     "execution_count": 35,
     "metadata": {},
     "output_type": "execute_result"
    }
   ],
   "source": [
    "df_review_clean.review_rating.value_counts() #7.0 is the most common rating for a film"
   ]
  },
  {
   "cell_type": "code",
   "execution_count": 37,
   "id": "229f4c02-359f-4489-bc75-9f6e05fdfa03",
   "metadata": {},
   "outputs": [
    {
     "name": "stdout",
     "output_type": "stream",
     "text": [
      "Mean: 7.299915038232795\n",
      "Median: 7.0\n",
      "Mode: 7.0\n"
     ]
    }
   ],
   "source": [
    "#Now, we want to analyze the statistics from the users ratings\n",
    "# Mean\n",
    "mean = st.mean(df_review_clean['review_rating'])\n",
    "print('Mean:', mean)\n",
    "\n",
    "# Median\n",
    "median = st.median(df_review_clean['review_rating'])\n",
    "print('Median:', median)\n",
    "\n",
    "# Mode\n",
    "mode = st.mode(df_review_clean['review_rating'])\n",
    "print('Mode:', mode)"
   ]
  },
  {
   "cell_type": "code",
   "execution_count": 39,
   "id": "2e560603-df05-4a42-b1e9-100f25bc4481",
   "metadata": {},
   "outputs": [
    {
     "name": "stdout",
     "output_type": "stream",
     "text": [
      "Top 5 Reviews Ratings Frequency:\n",
      "review_rating\n",
      "7.0     1293\n",
      "6.0     1293\n",
      "10.0     931\n",
      "8.0      911\n",
      "9.0      797\n",
      "Name: count, dtype: int64\n"
     ]
    }
   ],
   "source": [
    "print('Top 5 Reviews Ratings Frequency:')\n",
    "print(df_review_clean['review_rating'].value_counts().head())"
   ]
  },
  {
   "cell_type": "markdown",
   "id": "3630c302-d788-417a-b77c-46e273db6708",
   "metadata": {},
   "source": [
    "## Data Visualization of the reviews"
   ]
  },
  {
   "cell_type": "code",
   "execution_count": 42,
   "id": "bad53ca9-71d7-4d50-ad04-941dc2fe8731",
   "metadata": {},
   "outputs": [],
   "source": [
    "#We'll save all the graphics in the folder Data_Visualization_Graphics_Review\n",
    "list_folder = 'Data_Visualization_Graphics_Review' "
   ]
  },
  {
   "cell_type": "markdown",
   "id": "c836dab7-c247-47e2-bab3-44eee8af9e8b",
   "metadata": {},
   "source": [
    "### 1. Distribution of Users Reviews"
   ]
  },
  {
   "cell_type": "code",
   "execution_count": 45,
   "id": "32b63262-1154-47e7-98c6-3520d562f02b",
   "metadata": {},
   "outputs": [
    {
     "data": {
      "image/png": "[encoded data removed]",
      "text/plain": [
       "<Figure size 800x400 with 1 Axes>"
      ]
     },
     "metadata": {},
     "output_type": "display_data"
    },
    {
     "name": "stdout",
     "output_type": "stream",
     "text": [
      "Graphic saved in Data_Visualization_Graphics_Review\\user_reviews_distribution.png\n"
     ]
    }
   ],
   "source": [
    "fig, ax = plt.subplots(figsize=(8,4))\n",
    "\n",
    "#Keeping the histogram in a variable to show the values of each column later\n",
    "hist = sns.histplot(df_review_clean['review_rating'], bins = 10, kde = True, color = '#8e44ad', edgecolor = 'black', linewidth = 1.2, ax = ax)\n",
    "\n",
    "#Titles\n",
    "ax.set_title('Distribution of User Reviews', fontsize = 14, fontweight = 'bold', color = '#2c3e50', pad=20)\n",
    "ax.set_xlabel('Review Rating (1-10)', fontsize = 10)\n",
    "ax.set_ylabel('Frequency', fontsize = 10)\n",
    "\n",
    "#Personalized\n",
    "ax.grid(axis='y', linestyle = '--', alpha = 0.6)\n",
    "\n",
    "\n",
    "#White background\n",
    "fig.patch.set_facecolor('white')\n",
    "\n",
    "# Show values\n",
    "for bar in hist.patches: #patches contains all the columns of the histogram\n",
    "    height = bar.get_height() #Quantity of data \n",
    "    if height > 0:  \n",
    "        ax.text(\n",
    "            bar.get_x() + bar.get_width() / 2, #horizontal position of the center of the bar\n",
    "            height + 0.5, # Above the var\n",
    "            f'{int(height)}',\n",
    "            ha='center',\n",
    "            va='bottom',\n",
    "            fontsize=9,\n",
    "            color='black',\n",
    "            fontweight='bold'\n",
    "        )\n",
    "        \n",
    "plt.tight_layout()\n",
    "plt.show()\n",
    "\n",
    "#Save graphic\n",
    "name_file = os.path.join(list_folder, 'user_reviews_distribution.png')\n",
    "fig.savefig(name_file, dpi = 300)\n",
    "print(f'Graphic saved in {name_file}')"
   ]
  },
  {
   "cell_type": "markdown",
   "id": "9a7d81f5-7054-413c-91ba-83deaab813db",
   "metadata": {},
   "source": [
    "### 2. Variability of User Reviews"
   ]
  },
  {
   "cell_type": "code",
   "execution_count": 48,
   "id": "50871aa4-9f03-4e47-ac65-bec7b1f1f2b8",
   "metadata": {},
   "outputs": [
    {
     "name": "stdout",
     "output_type": "stream",
     "text": [
      "Q1 (25%): 6.00, Mediana: 7.00, Q3 (75%): 9.00\n"
     ]
    },
    {
     "data": {
      "image/png": "[encoded data removed]",
      "text/plain": [
       "<Figure size 600x800 with 1 Axes>"
      ]
     },
     "metadata": {},
     "output_type": "display_data"
    },
    {
     "name": "stdout",
     "output_type": "stream",
     "text": [
      "Graphic saved in Data_Visualization_Graphics_Review\\variability_user_reviews.png\n"
     ]
    }
   ],
   "source": [
    "fig2 = plt.figure(figsize=(6,8))\n",
    "\n",
    "sns.set(style='whitegrid')\n",
    "\n",
    "sns.boxplot(\n",
    "    y=df_review_clean['review_rating'], \n",
    "    color = 'lightblue', \n",
    "    width = 0.3, \n",
    "    linewidth = 2, \n",
    "    fliersize=6, #Outliers size\n",
    "    flierprops=dict(marker='o', markerfacecolor='red', markersize=6, linestyle='none')  # Otliers style\n",
    ")\n",
    "plt.title('Boxplot de calificaciones de usuarios', fontsize = 14, fontweight = 'bold')\n",
    "plt.ylabel('Calification', fontsize=12)\n",
    "plt.grid(True, axis='y', linestyle='--', alpha = 0.6)\n",
    "\n",
    "# Mostrar valores resumen si deseas\n",
    "q1 = df_review_clean['review_rating'].quantile(0.25)\n",
    "q2 = df_review_clean['review_rating'].quantile(0.50)\n",
    "q3 = df_review_clean['review_rating'].quantile(0.75)\n",
    "print(f\"Q1 (25%): {q1:.2f}, Mediana: {q2:.2f}, Q3 (75%): {q3:.2f}\")\n",
    "\n",
    "plt.show()\n",
    "#In this graphic, we can watch the min and max value of the review_rating, 1st and 3ra quartile amd the Outliers of the review_rating column\n",
    "\n",
    "#Save graphic\n",
    "name_file = os.path.join(list_folder, 'variability_user_reviews.png')\n",
    "fig2.savefig(name_file, dpi = 300)\n",
    "print(f'Graphic saved in {name_file}')"
   ]
  },
  {
   "cell_type": "markdown",
   "id": "5d58ad92-1824-4c78-91e3-eff859ca4dac",
   "metadata": {},
   "source": [
    "# Merging DataFrames "
   ]
  },
  {
   "cell_type": "code",
   "execution_count": 50,
   "id": "d6730c84-beec-4557-b432-9f8edee1757f",
   "metadata": {},
   "outputs": [],
   "source": [
    "#Standarize column names for both dataframes\n",
    "df_list.columns = df_list.columns.str.strip()\n",
    "df_review.columns = df_review.columns.str.strip()"
   ]
  },
  {
   "cell_type": "code",
   "execution_count": 51,
   "id": "7ec9bab4-a7e0-425b-9523-4123ae5d665c",
   "metadata": {},
   "outputs": [
    {
     "name": "stdout",
     "output_type": "stream",
     "text": [
      "\n",
      "Missing values:\n",
      "Unnamed: 0    0\n",
      "id            0\n",
      "title         0\n",
      "rating        0\n",
      "genre         0\n",
      "year          0\n",
      "dtype: int64\n",
      "\n",
      "Missing values:\n",
      "imdb_id            0\n",
      "review title       0\n",
      "review_rating    356\n",
      "review             0\n",
      "dtype: int64\n"
     ]
    }
   ],
   "source": [
    "#Obtaining null values from both dataframes\n",
    "def null_values(df):\n",
    "    print(f'\\nMissing values:')\n",
    "    print(df.isnull().sum())\n",
    "\n",
    "null_values(df_list)\n",
    "null_values(df_review)"
   ]
  },
  {
   "cell_type": "code",
   "execution_count": 52,
   "id": "04d6dbbe-7277-4cbb-a574-b19f8a22c03a",
   "metadata": {},
   "outputs": [
    {
     "data": {
      "text/html": [
       "<div>\n",
       "<style scoped>\n",
       "    .dataframe tbody tr th:only-of-type {\n",
       "        vertical-align: middle;\n",
       "    }\n",
       "\n",
       "    .dataframe tbody tr th {\n",
       "        vertical-align: top;\n",
       "    }\n",
       "\n",
       "    .dataframe thead th {\n",
       "        text-align: right;\n",
       "    }\n",
       "</style>\n",
       "<table border=\"1\" class=\"dataframe\">\n",
       "  <thead>\n",
       "    <tr style=\"text-align: right;\">\n",
       "      <th></th>\n",
       "      <th>imdb_id</th>\n",
       "      <th>review title</th>\n",
       "      <th>review_rating</th>\n",
       "      <th>review</th>\n",
       "      <th>Unnamed: 0</th>\n",
       "      <th>id</th>\n",
       "      <th>title</th>\n",
       "      <th>rating</th>\n",
       "      <th>genre</th>\n",
       "      <th>year</th>\n",
       "    </tr>\n",
       "  </thead>\n",
       "  <tbody>\n",
       "    <tr>\n",
       "      <th>0</th>\n",
       "      <td>tt0369610</td>\n",
       "      <td>Spielberg Magic, This Is Not. Still, a Visit t...</td>\n",
       "      <td>7.0</td>\n",
       "      <td>You may have heard some critics champion Juras...</td>\n",
       "      <td>0</td>\n",
       "      <td>tt0369610</td>\n",
       "      <td>Jurassic World</td>\n",
       "      <td>6.9</td>\n",
       "      <td>Action, Adventure, Sci-Fi</td>\n",
       "      <td>2015</td>\n",
       "    </tr>\n",
       "    <tr>\n",
       "      <th>1</th>\n",
       "      <td>tt0369610</td>\n",
       "      <td>Not a patch on the original Jurassic Park, and...</td>\n",
       "      <td>7.0</td>\n",
       "      <td>The original Jurassic Park still is a personal...</td>\n",
       "      <td>0</td>\n",
       "      <td>tt0369610</td>\n",
       "      <td>Jurassic World</td>\n",
       "      <td>6.9</td>\n",
       "      <td>Action, Adventure, Sci-Fi</td>\n",
       "      <td>2015</td>\n",
       "    </tr>\n",
       "    <tr>\n",
       "      <th>2</th>\n",
       "      <td>tt0369610</td>\n",
       "      <td>Its a Jurassic World after all.</td>\n",
       "      <td>7.0</td>\n",
       "      <td>The 4th film in the Jurassic Park series and t...</td>\n",
       "      <td>0</td>\n",
       "      <td>tt0369610</td>\n",
       "      <td>Jurassic World</td>\n",
       "      <td>6.9</td>\n",
       "      <td>Action, Adventure, Sci-Fi</td>\n",
       "      <td>2015</td>\n",
       "    </tr>\n",
       "    <tr>\n",
       "      <th>3</th>\n",
       "      <td>tt0369610</td>\n",
       "      <td>Worthy Sequel To One Of The Greatest Films Eve...</td>\n",
       "      <td>NaN</td>\n",
       "      <td>Let's start this by stating how much of a die ...</td>\n",
       "      <td>0</td>\n",
       "      <td>tt0369610</td>\n",
       "      <td>Jurassic World</td>\n",
       "      <td>6.9</td>\n",
       "      <td>Action, Adventure, Sci-Fi</td>\n",
       "      <td>2015</td>\n",
       "    </tr>\n",
       "    <tr>\n",
       "      <th>4</th>\n",
       "      <td>tt0369610</td>\n",
       "      <td>Manages to somewhat return the Jurassic Park s...</td>\n",
       "      <td>6.0</td>\n",
       "      <td>Modernized and polished entry to the Jurassic ...</td>\n",
       "      <td>0</td>\n",
       "      <td>tt0369610</td>\n",
       "      <td>Jurassic World</td>\n",
       "      <td>6.9</td>\n",
       "      <td>Action, Adventure, Sci-Fi</td>\n",
       "      <td>2015</td>\n",
       "    </tr>\n",
       "  </tbody>\n",
       "</table>\n",
       "</div>"
      ],
      "text/plain": [
       "     imdb_id                                       review title  \\\n",
       "0  tt0369610  Spielberg Magic, This Is Not. Still, a Visit t...   \n",
       "1  tt0369610  Not a patch on the original Jurassic Park, and...   \n",
       "2  tt0369610                    Its a Jurassic World after all.   \n",
       "3  tt0369610  Worthy Sequel To One Of The Greatest Films Eve...   \n",
       "4  tt0369610  Manages to somewhat return the Jurassic Park s...   \n",
       "\n",
       "   review_rating                                             review  \\\n",
       "0            7.0  You may have heard some critics champion Juras...   \n",
       "1            7.0  The original Jurassic Park still is a personal...   \n",
       "2            7.0  The 4th film in the Jurassic Park series and t...   \n",
       "3            NaN  Let's start this by stating how much of a die ...   \n",
       "4            6.0  Modernized and polished entry to the Jurassic ...   \n",
       "\n",
       "   Unnamed: 0         id           title  rating                      genre  \\\n",
       "0           0  tt0369610  Jurassic World     6.9  Action, Adventure, Sci-Fi   \n",
       "1           0  tt0369610  Jurassic World     6.9  Action, Adventure, Sci-Fi   \n",
       "2           0  tt0369610  Jurassic World     6.9  Action, Adventure, Sci-Fi   \n",
       "3           0  tt0369610  Jurassic World     6.9  Action, Adventure, Sci-Fi   \n",
       "4           0  tt0369610  Jurassic World     6.9  Action, Adventure, Sci-Fi   \n",
       "\n",
       "   year  \n",
       "0  2015  \n",
       "1  2015  \n",
       "2  2015  \n",
       "3  2015  \n",
       "4  2015  "
      ]
     },
     "execution_count": 52,
     "metadata": {},
     "output_type": "execute_result"
    }
   ],
   "source": [
    "#Converting year column into numeric. errors= 'coerce' allows NaN values\n",
    "df_list['year'] = pd.to_numeric(df_list['year'], errors='coerce')\n",
    "\n",
    "#Merging columns\n",
    "df_merged = pd.merge(df_review, df_list, left_on='imdb_id',right_on='id',how='left')\n",
    "\n",
    "#Merge work like JOIN in SQL\n",
    "#df_review = left join\n",
    "#df_list = right join\n",
    "#left_on = imdb_id is the foreign key\n",
    "#right_on = id is the principal key\n",
    "#how = left because we want all the reviews, even if they're not related with the list\n",
    "df_merged.head()"
   ]
  },
  {
   "cell_type": "code",
   "execution_count": 53,
   "id": "b9bc8599-1270-41bd-8921-9363bc9b3668",
   "metadata": {},
   "outputs": [],
   "source": [
    "#Dropping unnecesary columns\n",
    "df_merged = df_merged.drop(columns = ['Unnamed: 0', 'imdb_id','id'])"
   ]
  },
  {
   "cell_type": "code",
   "execution_count": 54,
   "id": "34e671f3-a5d5-4ed5-826f-ab40753a634f",
   "metadata": {},
   "outputs": [
    {
     "name": "stdout",
     "output_type": "stream",
     "text": [
      "Index(['review title', 'review_rating', 'review', 'title', 'rating', 'genre',\n",
      "       'year'],\n",
      "      dtype='object')\n"
     ]
    }
   ],
   "source": [
    "print(df_merged.columns)"
   ]
  },
  {
   "cell_type": "code",
   "execution_count": 55,
   "id": "b073a606-7e9d-43f8-80af-1ff2e2cd615c",
   "metadata": {},
   "outputs": [
    {
     "data": {
      "text/html": [
       "<div>\n",
       "<style scoped>\n",
       "    .dataframe tbody tr th:only-of-type {\n",
       "        vertical-align: middle;\n",
       "    }\n",
       "\n",
       "    .dataframe tbody tr th {\n",
       "        vertical-align: top;\n",
       "    }\n",
       "\n",
       "    .dataframe thead th {\n",
       "        text-align: right;\n",
       "    }\n",
       "</style>\n",
       "<table border=\"1\" class=\"dataframe\">\n",
       "  <thead>\n",
       "    <tr style=\"text-align: right;\">\n",
       "      <th></th>\n",
       "      <th>review title</th>\n",
       "      <th>review_rating</th>\n",
       "      <th>review</th>\n",
       "      <th>title</th>\n",
       "      <th>rating</th>\n",
       "      <th>genre</th>\n",
       "      <th>year</th>\n",
       "    </tr>\n",
       "  </thead>\n",
       "  <tbody>\n",
       "    <tr>\n",
       "      <th>0</th>\n",
       "      <td>Spielberg Magic, This Is Not. Still, a Visit t...</td>\n",
       "      <td>7.0</td>\n",
       "      <td>You may have heard some critics champion Juras...</td>\n",
       "      <td>Jurassic World</td>\n",
       "      <td>6.9</td>\n",
       "      <td>Action, Adventure, Sci-Fi</td>\n",
       "      <td>2015</td>\n",
       "    </tr>\n",
       "    <tr>\n",
       "      <th>1</th>\n",
       "      <td>Not a patch on the original Jurassic Park, and...</td>\n",
       "      <td>7.0</td>\n",
       "      <td>The original Jurassic Park still is a personal...</td>\n",
       "      <td>Jurassic World</td>\n",
       "      <td>6.9</td>\n",
       "      <td>Action, Adventure, Sci-Fi</td>\n",
       "      <td>2015</td>\n",
       "    </tr>\n",
       "    <tr>\n",
       "      <th>2</th>\n",
       "      <td>Its a Jurassic World after all.</td>\n",
       "      <td>7.0</td>\n",
       "      <td>The 4th film in the Jurassic Park series and t...</td>\n",
       "      <td>Jurassic World</td>\n",
       "      <td>6.9</td>\n",
       "      <td>Action, Adventure, Sci-Fi</td>\n",
       "      <td>2015</td>\n",
       "    </tr>\n",
       "    <tr>\n",
       "      <th>3</th>\n",
       "      <td>Worthy Sequel To One Of The Greatest Films Eve...</td>\n",
       "      <td>NaN</td>\n",
       "      <td>Let's start this by stating how much of a die ...</td>\n",
       "      <td>Jurassic World</td>\n",
       "      <td>6.9</td>\n",
       "      <td>Action, Adventure, Sci-Fi</td>\n",
       "      <td>2015</td>\n",
       "    </tr>\n",
       "    <tr>\n",
       "      <th>4</th>\n",
       "      <td>Manages to somewhat return the Jurassic Park s...</td>\n",
       "      <td>6.0</td>\n",
       "      <td>Modernized and polished entry to the Jurassic ...</td>\n",
       "      <td>Jurassic World</td>\n",
       "      <td>6.9</td>\n",
       "      <td>Action, Adventure, Sci-Fi</td>\n",
       "      <td>2015</td>\n",
       "    </tr>\n",
       "  </tbody>\n",
       "</table>\n",
       "</div>"
      ],
      "text/plain": [
       "                                        review title  review_rating  \\\n",
       "0  Spielberg Magic, This Is Not. Still, a Visit t...            7.0   \n",
       "1  Not a patch on the original Jurassic Park, and...            7.0   \n",
       "2                    Its a Jurassic World after all.            7.0   \n",
       "3  Worthy Sequel To One Of The Greatest Films Eve...            NaN   \n",
       "4  Manages to somewhat return the Jurassic Park s...            6.0   \n",
       "\n",
       "                                              review           title  rating  \\\n",
       "0  You may have heard some critics champion Juras...  Jurassic World     6.9   \n",
       "1  The original Jurassic Park still is a personal...  Jurassic World     6.9   \n",
       "2  The 4th film in the Jurassic Park series and t...  Jurassic World     6.9   \n",
       "3  Let's start this by stating how much of a die ...  Jurassic World     6.9   \n",
       "4  Modernized and polished entry to the Jurassic ...  Jurassic World     6.9   \n",
       "\n",
       "                       genre  year  \n",
       "0  Action, Adventure, Sci-Fi  2015  \n",
       "1  Action, Adventure, Sci-Fi  2015  \n",
       "2  Action, Adventure, Sci-Fi  2015  \n",
       "3  Action, Adventure, Sci-Fi  2015  \n",
       "4  Action, Adventure, Sci-Fi  2015  "
      ]
     },
     "execution_count": 55,
     "metadata": {},
     "output_type": "execute_result"
    }
   ],
   "source": [
    "df_merged.head()"
   ]
  },
  {
   "cell_type": "code",
   "execution_count": 56,
   "id": "9e65b703-0a95-4b48-a559-c9d645414ff1",
   "metadata": {},
   "outputs": [
    {
     "data": {
      "text/plain": [
       "review title     6084\n",
       "review_rating      10\n",
       "review           6215\n",
       "title             250\n",
       "rating             28\n",
       "genre              88\n",
       "year               10\n",
       "dtype: int64"
      ]
     },
     "execution_count": 56,
     "metadata": {},
     "output_type": "execute_result"
    }
   ],
   "source": [
    "df_merged.nunique()"
   ]
  },
  {
   "cell_type": "markdown",
   "id": "19f00d1d-3f8f-4246-8929-99ce075a99e1",
   "metadata": {},
   "source": [
    "# Duplicating DataFrame to reorder the columns"
   ]
  },
  {
   "cell_type": "code",
   "execution_count": 58,
   "id": "7961a113-8f62-4b55-b74b-ef7486e22cb7",
   "metadata": {},
   "outputs": [
    {
     "data": {
      "text/html": [
       "<div>\n",
       "<style scoped>\n",
       "    .dataframe tbody tr th:only-of-type {\n",
       "        vertical-align: middle;\n",
       "    }\n",
       "\n",
       "    .dataframe tbody tr th {\n",
       "        vertical-align: top;\n",
       "    }\n",
       "\n",
       "    .dataframe thead th {\n",
       "        text-align: right;\n",
       "    }\n",
       "</style>\n",
       "<table border=\"1\" class=\"dataframe\">\n",
       "  <thead>\n",
       "    <tr style=\"text-align: right;\">\n",
       "      <th></th>\n",
       "      <th>year</th>\n",
       "      <th>title</th>\n",
       "      <th>genre</th>\n",
       "      <th>rating</th>\n",
       "      <th>review title</th>\n",
       "      <th>review</th>\n",
       "      <th>review_rating</th>\n",
       "    </tr>\n",
       "  </thead>\n",
       "  <tbody>\n",
       "    <tr>\n",
       "      <th>0</th>\n",
       "      <td>2015</td>\n",
       "      <td>Jurassic World</td>\n",
       "      <td>Action, Adventure, Sci-Fi</td>\n",
       "      <td>6.9</td>\n",
       "      <td>Spielberg Magic, This Is Not. Still, a Visit t...</td>\n",
       "      <td>You may have heard some critics champion Juras...</td>\n",
       "      <td>7.0</td>\n",
       "    </tr>\n",
       "    <tr>\n",
       "      <th>1</th>\n",
       "      <td>2015</td>\n",
       "      <td>Jurassic World</td>\n",
       "      <td>Action, Adventure, Sci-Fi</td>\n",
       "      <td>6.9</td>\n",
       "      <td>Not a patch on the original Jurassic Park, and...</td>\n",
       "      <td>The original Jurassic Park still is a personal...</td>\n",
       "      <td>7.0</td>\n",
       "    </tr>\n",
       "    <tr>\n",
       "      <th>2</th>\n",
       "      <td>2015</td>\n",
       "      <td>Jurassic World</td>\n",
       "      <td>Action, Adventure, Sci-Fi</td>\n",
       "      <td>6.9</td>\n",
       "      <td>Its a Jurassic World after all.</td>\n",
       "      <td>The 4th film in the Jurassic Park series and t...</td>\n",
       "      <td>7.0</td>\n",
       "    </tr>\n",
       "    <tr>\n",
       "      <th>3</th>\n",
       "      <td>2015</td>\n",
       "      <td>Jurassic World</td>\n",
       "      <td>Action, Adventure, Sci-Fi</td>\n",
       "      <td>6.9</td>\n",
       "      <td>Worthy Sequel To One Of The Greatest Films Eve...</td>\n",
       "      <td>Let's start this by stating how much of a die ...</td>\n",
       "      <td>NaN</td>\n",
       "    </tr>\n",
       "    <tr>\n",
       "      <th>4</th>\n",
       "      <td>2015</td>\n",
       "      <td>Jurassic World</td>\n",
       "      <td>Action, Adventure, Sci-Fi</td>\n",
       "      <td>6.9</td>\n",
       "      <td>Manages to somewhat return the Jurassic Park s...</td>\n",
       "      <td>Modernized and polished entry to the Jurassic ...</td>\n",
       "      <td>6.0</td>\n",
       "    </tr>\n",
       "  </tbody>\n",
       "</table>\n",
       "</div>"
      ],
      "text/plain": [
       "   year           title                      genre  rating  \\\n",
       "0  2015  Jurassic World  Action, Adventure, Sci-Fi     6.9   \n",
       "1  2015  Jurassic World  Action, Adventure, Sci-Fi     6.9   \n",
       "2  2015  Jurassic World  Action, Adventure, Sci-Fi     6.9   \n",
       "3  2015  Jurassic World  Action, Adventure, Sci-Fi     6.9   \n",
       "4  2015  Jurassic World  Action, Adventure, Sci-Fi     6.9   \n",
       "\n",
       "                                        review title  \\\n",
       "0  Spielberg Magic, This Is Not. Still, a Visit t...   \n",
       "1  Not a patch on the original Jurassic Park, and...   \n",
       "2                    Its a Jurassic World after all.   \n",
       "3  Worthy Sequel To One Of The Greatest Films Eve...   \n",
       "4  Manages to somewhat return the Jurassic Park s...   \n",
       "\n",
       "                                              review  review_rating  \n",
       "0  You may have heard some critics champion Juras...            7.0  \n",
       "1  The original Jurassic Park still is a personal...            7.0  \n",
       "2  The 4th film in the Jurassic Park series and t...            7.0  \n",
       "3  Let's start this by stating how much of a die ...            NaN  \n",
       "4  Modernized and polished entry to the Jurassic ...            6.0  "
      ]
     },
     "execution_count": 58,
     "metadata": {},
     "output_type": "execute_result"
    }
   ],
   "source": [
    "df_merged2 = df_merged2 =  df_merged[['year','title','genre','rating','review title','review','review_rating']]\n",
    "df_merged2.head()"
   ]
  },
  {
   "cell_type": "code",
   "execution_count": 60,
   "id": "18b645b2-d777-4183-a53f-01a446c3f424",
   "metadata": {},
   "outputs": [
    {
     "name": "stdout",
     "output_type": "stream",
     "text": [
      "-------------------- QUANTITY OF ROWS AND COLUMNS --------------------\n",
      "Rows: 6291\n",
      "Columns: 7\n",
      "----------------------------- Data Types -----------------------------\n",
      "year               int64\n",
      "title             object\n",
      "genre             object\n",
      "rating           float64\n",
      "review title      object\n",
      "review            object\n",
      "review_rating    float64\n",
      "dtype: object\n",
      "-------------------------------- HEAD --------------------------------\n",
      "   year           title                      genre  rating  \\\n",
      "0  2015  Jurassic World  Action, Adventure, Sci-Fi     6.9   \n",
      "1  2015  Jurassic World  Action, Adventure, Sci-Fi     6.9   \n",
      "2  2015  Jurassic World  Action, Adventure, Sci-Fi     6.9   \n",
      "3  2015  Jurassic World  Action, Adventure, Sci-Fi     6.9   \n",
      "4  2015  Jurassic World  Action, Adventure, Sci-Fi     6.9   \n",
      "\n",
      "                                        review title  \\\n",
      "0  Spielberg Magic, This Is Not. Still, a Visit t...   \n",
      "1  Not a patch on the original Jurassic Park, and...   \n",
      "2                    Its a Jurassic World after all.   \n",
      "3  Worthy Sequel To One Of The Greatest Films Eve...   \n",
      "4  Manages to somewhat return the Jurassic Park s...   \n",
      "\n",
      "                                              review  review_rating  \n",
      "0  You may have heard some critics champion Juras...            7.0  \n",
      "1  The original Jurassic Park still is a personal...            7.0  \n",
      "2  The 4th film in the Jurassic Park series and t...            7.0  \n",
      "3  Let's start this by stating how much of a die ...            NaN  \n",
      "4  Modernized and polished entry to the Jurassic ...            6.0  \n",
      "\n",
      "-------------------------------- TAIL --------------------------------\n",
      "      year     title                  genre  rating  \\\n",
      "6286  2024  Juror #2  Crime, Drama, Mystery     7.0   \n",
      "6287  2024  Juror #2  Crime, Drama, Mystery     7.0   \n",
      "6288  2024  Juror #2  Crime, Drama, Mystery     7.0   \n",
      "6289  2024  Juror #2  Crime, Drama, Mystery     7.0   \n",
      "6290  2024  Juror #2  Crime, Drama, Mystery     7.0   \n",
      "\n",
      "                       review title  \\\n",
      "6286                    About a man   \n",
      "6287  Not quite a unanimous verdict   \n",
      "6288          A house built on sand   \n",
      "6289       He's just a regular guy.   \n",
      "6290    What is your moral compass?   \n",
      "\n",
      "                                                 review  review_rating  \n",
      "6286  Superb casting with Nicholas Hoult & Toni Coll...            9.0  \n",
      "6287  This movie had the potential to be a good one....            6.0  \n",
      "6288  I doubt that this case would ever have gone to...            5.0  \n",
      "6289  So decidedly un-Eastwood I was shocked when I ...            6.0  \n",
      "6290  This movie truly makes you reflect on life and...           10.0  \n",
      "\n",
      "----------------------------- LOST DATA ------------------------------\n",
      "year               0\n",
      "title              0\n",
      "genre              0\n",
      "rating             0\n",
      "review title       0\n",
      "review             0\n",
      "review_rating    360\n",
      "dtype: int64\n",
      "\n",
      "----------------------------- DUPLICATED -----------------------------\n",
      "50\n",
      "\n",
      "----------------------------- QUANITLES ------------------------------\n",
      "                 0.00    0.05    0.50    0.95    0.99    1.00\n",
      "year           2015.0  2015.0  2019.0  2024.0  2024.0  2024.0\n",
      "rating            6.0     6.3     7.3     8.3     8.5     8.7\n",
      "review_rating     1.0     4.0     7.0    10.0    10.0    10.0\n"
     ]
    }
   ],
   "source": [
    "check_data(df_merged2)"
   ]
  },
  {
   "cell_type": "markdown",
   "id": "48faec37-9aab-4624-a75d-16fc9d2b4e30",
   "metadata": {},
   "source": [
    "# Analyzing the official ratings and the users ratings"
   ]
  },
  {
   "cell_type": "code",
   "execution_count": 62,
   "id": "be0f5546-b528-4ba5-b869-619d194108ae",
   "metadata": {},
   "outputs": [],
   "source": [
    "#Dropping lost data from review_rating to do data analysis\n",
    "df_merged2 = df_merged2.dropna(subset=['review_rating'])"
   ]
  },
  {
   "cell_type": "code",
   "execution_count": 63,
   "id": "d337d06f-e55f-457e-95af-f119358e1aa1",
   "metadata": {},
   "outputs": [
    {
     "data": {
      "text/plain": [
       "(8.7, 10.0)"
      ]
     },
     "execution_count": 63,
     "metadata": {},
     "output_type": "execute_result"
    }
   ],
   "source": [
    "#The best official rating for a film is 8.7\n",
    "#While the best user rating for a film is 10.0\n",
    "df_merged2['rating'].max() , df_review['review_rating'].max()"
   ]
  },
  {
   "cell_type": "code",
   "execution_count": 64,
   "id": "477445e1-eebb-4615-b0ac-d25e27cfb7f0",
   "metadata": {},
   "outputs": [
    {
     "data": {
      "text/plain": [
       "(6.0, 1.0)"
      ]
     },
     "execution_count": 64,
     "metadata": {},
     "output_type": "execute_result"
    }
   ],
   "source": [
    "#The worst official rating for a film is 6.0\n",
    "#While the best user rating for a film is 1.0\n",
    "df_merged2['rating'].min() , df_review['review_rating'].min()"
   ]
  },
  {
   "cell_type": "code",
   "execution_count": 71,
   "id": "d3a5d358-f9ae-4382-b682-25cf30795115",
   "metadata": {},
   "outputs": [
    {
     "name": "stdout",
     "output_type": "stream",
     "text": [
      "Statistics from the official rating\n",
      "Mean of the official rating: 7.283830719946046\n",
      "Median of the official rating: 7.3\n",
      "Mode of the official rating: 7.1\n",
      "\n",
      "Statistics from the users rating\n",
      "Mean of the users rating: 7.303658742201989\n",
      "Median of the users rating: 7.0\n",
      "Mode of the users rating: 6.0\n"
     ]
    }
   ],
   "source": [
    "def statistics_basics_df(df, column, wawa):\n",
    "    mean = st.mean(df[column])\n",
    "    print(f'Mean of {wawa}:', mean)\n",
    "    # Median\n",
    "    median = st.median(df[column])\n",
    "    print(f'Median of {wawa}:', median)\n",
    "    # Mode\n",
    "    mode = st.mode(df[column])\n",
    "    print(f'Mode of {wawa}:', mode)\n",
    "\n",
    "print('Statistics from the official rating')\n",
    "statistics_basics_df(df_merged2, 'rating', 'the official rating')\n",
    "print('\\nStatistics from the users rating')\n",
    "statistics_basics_df(df_merged2, 'review_rating','the users rating')"
   ]
  },
  {
   "cell_type": "code",
   "execution_count": 74,
   "id": "b8ae9d47-db4b-41c2-bf07-a2dd56a59c8e",
   "metadata": {},
   "outputs": [
    {
     "data": {
      "text/plain": [
       "426"
      ]
     },
     "execution_count": 74,
     "metadata": {},
     "output_type": "execute_result"
    }
   ],
   "source": [
    "df_merged2[df_merged2['rating'] == 7.1].shape[0]"
   ]
  },
  {
   "cell_type": "code",
   "execution_count": 79,
   "id": "07d2b481-fe2f-485c-a745-e6c5457d280b",
   "metadata": {},
   "outputs": [
    {
     "data": {
      "text/plain": [
       "1303"
      ]
     },
     "execution_count": 79,
     "metadata": {},
     "output_type": "execute_result"
    }
   ],
   "source": [
    "df_merged2[df_merged2['review_rating'] == 6.0].shape[0]"
   ]
  },
  {
   "cell_type": "markdown",
   "id": "559b50ae-def4-49dc-a274-2dc5c3013b68",
   "metadata": {},
   "source": [
    "### Dispersion Measures"
   ]
  },
  {
   "cell_type": "code",
   "execution_count": 81,
   "id": "cbbf7fe3-0e4f-4c3e-9186-e6552e37d6fb",
   "metadata": {},
   "outputs": [
    {
     "data": {
      "text/plain": [
       "0.38985995043716876"
      ]
     },
     "execution_count": 81,
     "metadata": {},
     "output_type": "execute_result"
    }
   ],
   "source": [
    "np.var(df_merged2['rating'])"
   ]
  },
  {
   "cell_type": "code",
   "execution_count": 82,
   "id": "4d436256-f361-47c5-9eda-1e41da57eaae",
   "metadata": {},
   "outputs": [
    {
     "data": {
      "text/plain": [
       "0.6243876603818886"
      ]
     },
     "execution_count": 82,
     "metadata": {},
     "output_type": "execute_result"
    }
   ],
   "source": [
    "np.std(df_merged2['rating'])"
   ]
  },
  {
   "cell_type": "code",
   "execution_count": 88,
   "id": "eac8e694-01db-4e4f-913a-991dfff6817f",
   "metadata": {},
   "outputs": [
    {
     "data": {
      "text/plain": [
       "3.764645187201904"
      ]
     },
     "execution_count": 88,
     "metadata": {},
     "output_type": "execute_result"
    }
   ],
   "source": [
    "np.var(df_merged2['review_rating'])"
   ]
  },
  {
   "cell_type": "code",
   "execution_count": 90,
   "id": "52a4f987-d4c4-4195-8770-c619135aeb9f",
   "metadata": {},
   "outputs": [
    {
     "data": {
      "text/plain": [
       "1.9402693594452045"
      ]
     },
     "execution_count": 90,
     "metadata": {},
     "output_type": "execute_result"
    }
   ],
   "source": [
    "np.std(df_merged2['review_rating'])"
   ]
  },
  {
   "cell_type": "code",
   "execution_count": 92,
   "id": "e761ce77-2c65-4e45-b2c0-b56aa5c47156",
   "metadata": {},
   "outputs": [
    {
     "data": {
      "text/html": [
       "<div>\n",
       "<style scoped>\n",
       "    .dataframe tbody tr th:only-of-type {\n",
       "        vertical-align: middle;\n",
       "    }\n",
       "\n",
       "    .dataframe tbody tr th {\n",
       "        vertical-align: top;\n",
       "    }\n",
       "\n",
       "    .dataframe thead th {\n",
       "        text-align: right;\n",
       "    }\n",
       "</style>\n",
       "<table border=\"1\" class=\"dataframe\">\n",
       "  <thead>\n",
       "    <tr style=\"text-align: right;\">\n",
       "      <th></th>\n",
       "      <th>count</th>\n",
       "      <th>mean</th>\n",
       "      <th>std</th>\n",
       "      <th>min</th>\n",
       "      <th>25%</th>\n",
       "      <th>50%</th>\n",
       "      <th>75%</th>\n",
       "      <th>max</th>\n",
       "    </tr>\n",
       "  </thead>\n",
       "  <tbody>\n",
       "    <tr>\n",
       "      <th>year</th>\n",
       "      <td>5931.0</td>\n",
       "      <td>2019.523183</td>\n",
       "      <td>2.881047</td>\n",
       "      <td>2015.0</td>\n",
       "      <td>2017.0</td>\n",
       "      <td>2020.0</td>\n",
       "      <td>2022.0</td>\n",
       "      <td>2024.0</td>\n",
       "    </tr>\n",
       "    <tr>\n",
       "      <th>rating</th>\n",
       "      <td>5931.0</td>\n",
       "      <td>7.283831</td>\n",
       "      <td>0.624440</td>\n",
       "      <td>6.0</td>\n",
       "      <td>6.8</td>\n",
       "      <td>7.3</td>\n",
       "      <td>7.8</td>\n",
       "      <td>8.7</td>\n",
       "    </tr>\n",
       "    <tr>\n",
       "      <th>review_rating</th>\n",
       "      <td>5931.0</td>\n",
       "      <td>7.303659</td>\n",
       "      <td>1.940433</td>\n",
       "      <td>1.0</td>\n",
       "      <td>6.0</td>\n",
       "      <td>7.0</td>\n",
       "      <td>9.0</td>\n",
       "      <td>10.0</td>\n",
       "    </tr>\n",
       "  </tbody>\n",
       "</table>\n",
       "</div>"
      ],
      "text/plain": [
       "                count         mean       std     min     25%     50%     75%  \\\n",
       "year           5931.0  2019.523183  2.881047  2015.0  2017.0  2020.0  2022.0   \n",
       "rating         5931.0     7.283831  0.624440     6.0     6.8     7.3     7.8   \n",
       "review_rating  5931.0     7.303659  1.940433     1.0     6.0     7.0     9.0   \n",
       "\n",
       "                  max  \n",
       "year           2024.0  \n",
       "rating            8.7  \n",
       "review_rating    10.0  "
      ]
     },
     "execution_count": 92,
     "metadata": {},
     "output_type": "execute_result"
    }
   ],
   "source": [
    "df_merged2.describe().T"
   ]
  },
  {
   "cell_type": "markdown",
   "id": "df6f7565-7c05-403b-bc0a-878d9eaec159",
   "metadata": {},
   "source": [
    "## Data Visualization of the merging DataFrame"
   ]
  },
  {
   "cell_type": "markdown",
   "id": "209f8265-5f32-418f-aebf-c4daec4a5c49",
   "metadata": {},
   "source": [
    "### 1.Distribution of Users Reviews"
   ]
  },
  {
   "cell_type": "code",
   "execution_count": 96,
   "id": "9b5943c7-5534-4754-9f9e-1f936e1a6889",
   "metadata": {},
   "outputs": [],
   "source": [
    "#We'll save all the graphics in the folder Data_Visualization_Graphics_Merged\n",
    "list_folder = 'Data_Visualization_Graphics_Merged' "
   ]
  },
  {
   "cell_type": "code",
   "execution_count": 98,
   "id": "a1b6f1e5-0511-48f0-b9f7-0b10de48feb5",
   "metadata": {},
   "outputs": [],
   "source": [
    "#1. Split the genres data\n",
    "df_genre2 = df_merged2.copy()\n",
    "df_genre2['genre'] = df_genre2['genre'].str.split(', ')\n",
    "\n",
    "#2. Expand the list in rows\n",
    "df_genre2 = df_genre2.explode('genre')\n",
    "\n",
    "#3. Obtaining the top 10 genres\n",
    "top10_genres = df_genre2.groupby('genre')['review_rating'].mean().sort_values(ascending = False).head(10)"
   ]
  },
  {
   "cell_type": "code",
   "execution_count": 100,
   "id": "9776eab1-654f-4581-b35f-a8576f973935",
   "metadata": {},
   "outputs": [
    {
     "data": {
      "image/png": "[encoded data removed]",
      "text/plain": [
       "<Figure size 1000x600 with 1 Axes>"
      ]
     },
     "metadata": {},
     "output_type": "display_data"
    },
    {
     "name": "stdout",
     "output_type": "stream",
     "text": [
      "Graphic saved in Data_Visualization_Graphics_Merged\\top10_genres_best_average_rating.png\n"
     ]
    }
   ],
   "source": [
    "sns.set(style = 'whitegrid')\n",
    "\n",
    "fig3 = plt.figure(figsize=(10,6))\n",
    "\n",
    "sns.barplot(\n",
    "    x=top10_genres.values, \n",
    "    y=top10_genres.index, \n",
    "    palette = 'crest', \n",
    "    edgecolor = 'black')\n",
    "    \n",
    "plt.title('Top 10 Genres with the Best Average Rating', fontsize = 16, fontweight = 'bold', color = 'darkblue')\n",
    "\n",
    "plt.xlabel('Average Rating', fontsize=12)\n",
    "plt.ylabel('Genre', fontsize=12)\n",
    "plt.xticks(fontsize=10)\n",
    "plt.yticks(fontsize=10)\n",
    "\n",
    "for i, value in enumerate(top10_genres.values):\n",
    "        plt.text(value + 0.01, i, f'{value:.2f}', va= 'center', fontsize = 10, color = 'black')\n",
    "\n",
    "plt.grid(axis='x', linestyle='--', alpha = 0.5)\n",
    "\n",
    "plt.tight_layout()\n",
    "plt.show()\n",
    "\n",
    "\n",
    "#Save graphic\n",
    "name_file = os.path.join(list_folder, 'top10_genres_best_average_rating.png')\n",
    "fig3.savefig(name_file, dpi = 300)\n",
    "print(f'Graphic saved in {name_file}')"
   ]
  },
  {
   "cell_type": "markdown",
   "id": "921b69f3-98c8-46bb-8221-7f875847d3fc",
   "metadata": {},
   "source": [
    "### 2.Top 3 titles with the best reviews"
   ]
  },
  {
   "cell_type": "code",
   "execution_count": 132,
   "id": "024ec6c8-07b6-4f60-9721-017682952f44",
   "metadata": {},
   "outputs": [
    {
     "data": {
      "image/png": "[encoded data removed]",
      "text/plain": [
       "<Figure size 1000x800 with 1 Axes>"
      ]
     },
     "metadata": {},
     "output_type": "display_data"
    },
    {
     "name": "stdout",
     "output_type": "stream",
     "text": [
      "Graphic saved in Data_Visualization_Graphics_Merged\\top4_films_best_official_rating.png\n"
     ]
    }
   ],
   "source": [
    "df_merged2 = df_merged2.dropna(subset=['title', 'rating', 'genre'])\n",
    "\n",
    "# Top 4 titles with the most official ratings\n",
    "top4 = df_merged2.groupby(['title', 'genre'], as_index=False)['rating'].mean().sort_values(by='rating', ascending=False).head(4)\n",
    "\n",
    "# Title (Gender)\n",
    "labels = [f\"{row['title']}\\n({row['genre']})\" for _, row in top4.iterrows()]\n",
    "sizes = top4['rating'].tolist()\n",
    "\n",
    "# Color and styles\n",
    "colors = plt.cm.Set3.colors\n",
    "explode = [0.08] * len(top4)  # Split the portions a littl\n",
    "\n",
    "fig4, ax = plt.subplots(figsize=(10, 8))\n",
    "wedges, texts, autotexts = ax.pie(\n",
    "    sizes,\n",
    "    labels=None,\n",
    "    autopct=lambda pct: f\"{pct:.1f}%\",\n",
    "    startangle=140,\n",
    "    colors=colors,\n",
    "    explode=explode,\n",
    "    shadow=True,\n",
    "    textprops={'fontsize': 12, 'color': 'black'}\n",
    ")\n",
    "\n",
    "\n",
    "# Agregar etiquetas externas (nombre + género + valor real)\n",
    "for i, wedge in enumerate(wedges):\n",
    "    ang = (wedge.theta2 + wedge.theta1) / 2\n",
    "    x = wedge.r * 1.2 * np.cos(np.deg2rad(ang))\n",
    "    y = wedge.r * 1.2 * np.sin(np.deg2rad(ang))\n",
    "    ax.text(x, y, f\"{labels[i]}\\n{sizes[i]:.2f}\", ha='center', va='center', fontsize=11)\n",
    "    \n",
    "plt.title('Top 4 Films with the best official rating and their genders', fontsize=16, fontweight='bold', loc = 'center', pad=20)\n",
    "\n",
    "plt.tight_layout()\n",
    "plt.show()\n",
    "\n",
    "#Save graphic\n",
    "name_file = os.path.join(list_folder, 'top4_films_best_official_rating.png')\n",
    "fig4.savefig(name_file, dpi = 300)\n",
    "print(f'Graphic saved in {name_file}')"
   ]
  },
  {
   "cell_type": "code",
   "execution_count": 113,
   "id": "9b8eb10d-49ff-4676-bb63-6c9a30557713",
   "metadata": {},
   "outputs": [
    {
     "data": {
      "text/plain": [
       "(5931, 7)"
      ]
     },
     "execution_count": 113,
     "metadata": {},
     "output_type": "execute_result"
    }
   ],
   "source": [
    "df_merged2.shape"
   ]
  },
  {
   "cell_type": "markdown",
   "id": "dac90cbd-ae1b-4596-af9b-b09ac4d88353",
   "metadata": {},
   "source": [
    "# Machine Learning"
   ]
  },
  {
   "cell_type": "markdown",
   "id": "2430a155-0f9c-4070-a0c4-957bc291f9da",
   "metadata": {},
   "source": [
    "## We'll predict the official ratings with regression"
   ]
  },
  {
   "cell_type": "code",
   "execution_count": 164,
   "id": "6f019a9c-19c6-425a-b33e-379130d10525",
   "metadata": {},
   "outputs": [],
   "source": [
    "from sklearn.model_selection import train_test_split #Train data\n",
    "from sklearn.ensemble import RandomForestRegressor #\n",
    "from sklearn.metrics import mean_squared_error, r2_score\n",
    "from sklearn.preprocessing import OneHotEncoder\n",
    "from sklearn.compose import ColumnTransformer\n",
    "from sklearn.pipeline import Pipeline"
   ]
  },
  {
   "cell_type": "code",
   "execution_count": 180,
   "id": "f2fcabe5-81de-47a0-a2ff-b9a8eea10021",
   "metadata": {},
   "outputs": [
    {
     "data": {
      "text/html": [
       "<div>\n",
       "<style scoped>\n",
       "    .dataframe tbody tr th:only-of-type {\n",
       "        vertical-align: middle;\n",
       "    }\n",
       "\n",
       "    .dataframe tbody tr th {\n",
       "        vertical-align: top;\n",
       "    }\n",
       "\n",
       "    .dataframe thead th {\n",
       "        text-align: right;\n",
       "    }\n",
       "</style>\n",
       "<table border=\"1\" class=\"dataframe\">\n",
       "  <thead>\n",
       "    <tr style=\"text-align: right;\">\n",
       "      <th></th>\n",
       "      <th>year</th>\n",
       "      <th>title</th>\n",
       "      <th>genre</th>\n",
       "      <th>rating</th>\n",
       "      <th>review title</th>\n",
       "      <th>review</th>\n",
       "      <th>review_rating</th>\n",
       "    </tr>\n",
       "  </thead>\n",
       "  <tbody>\n",
       "    <tr>\n",
       "      <th>0</th>\n",
       "      <td>2015</td>\n",
       "      <td>Jurassic World</td>\n",
       "      <td>Action, Adventure, Sci-Fi</td>\n",
       "      <td>6.9</td>\n",
       "      <td>Spielberg Magic, This Is Not. Still, a Visit t...</td>\n",
       "      <td>You may have heard some critics champion Juras...</td>\n",
       "      <td>7.0</td>\n",
       "    </tr>\n",
       "    <tr>\n",
       "      <th>1</th>\n",
       "      <td>2015</td>\n",
       "      <td>Jurassic World</td>\n",
       "      <td>Action, Adventure, Sci-Fi</td>\n",
       "      <td>6.9</td>\n",
       "      <td>Not a patch on the original Jurassic Park, and...</td>\n",
       "      <td>The original Jurassic Park still is a personal...</td>\n",
       "      <td>7.0</td>\n",
       "    </tr>\n",
       "    <tr>\n",
       "      <th>2</th>\n",
       "      <td>2015</td>\n",
       "      <td>Jurassic World</td>\n",
       "      <td>Action, Adventure, Sci-Fi</td>\n",
       "      <td>6.9</td>\n",
       "      <td>Its a Jurassic World after all.</td>\n",
       "      <td>The 4th film in the Jurassic Park series and t...</td>\n",
       "      <td>7.0</td>\n",
       "    </tr>\n",
       "    <tr>\n",
       "      <th>4</th>\n",
       "      <td>2015</td>\n",
       "      <td>Jurassic World</td>\n",
       "      <td>Action, Adventure, Sci-Fi</td>\n",
       "      <td>6.9</td>\n",
       "      <td>Manages to somewhat return the Jurassic Park s...</td>\n",
       "      <td>Modernized and polished entry to the Jurassic ...</td>\n",
       "      <td>6.0</td>\n",
       "    </tr>\n",
       "    <tr>\n",
       "      <th>5</th>\n",
       "      <td>2015</td>\n",
       "      <td>Jurassic World</td>\n",
       "      <td>Action, Adventure, Sci-Fi</td>\n",
       "      <td>6.9</td>\n",
       "      <td>Very good but more a remake of the first two m...</td>\n",
       "      <td>Like it's dinosaur Frankenstein creation, Jura...</td>\n",
       "      <td>7.0</td>\n",
       "    </tr>\n",
       "  </tbody>\n",
       "</table>\n",
       "</div>"
      ],
      "text/plain": [
       "   year           title                      genre  rating  \\\n",
       "0  2015  Jurassic World  Action, Adventure, Sci-Fi     6.9   \n",
       "1  2015  Jurassic World  Action, Adventure, Sci-Fi     6.9   \n",
       "2  2015  Jurassic World  Action, Adventure, Sci-Fi     6.9   \n",
       "4  2015  Jurassic World  Action, Adventure, Sci-Fi     6.9   \n",
       "5  2015  Jurassic World  Action, Adventure, Sci-Fi     6.9   \n",
       "\n",
       "                                        review title  \\\n",
       "0  Spielberg Magic, This Is Not. Still, a Visit t...   \n",
       "1  Not a patch on the original Jurassic Park, and...   \n",
       "2                    Its a Jurassic World after all.   \n",
       "4  Manages to somewhat return the Jurassic Park s...   \n",
       "5  Very good but more a remake of the first two m...   \n",
       "\n",
       "                                              review  review_rating  \n",
       "0  You may have heard some critics champion Juras...            7.0  \n",
       "1  The original Jurassic Park still is a personal...            7.0  \n",
       "2  The 4th film in the Jurassic Park series and t...            7.0  \n",
       "4  Modernized and polished entry to the Jurassic ...            6.0  \n",
       "5  Like it's dinosaur Frankenstein creation, Jura...            7.0  "
      ]
     },
     "execution_count": 180,
     "metadata": {},
     "output_type": "execute_result"
    }
   ],
   "source": [
    "df_merged2.head()"
   ]
  },
  {
   "cell_type": "code",
   "execution_count": 182,
   "id": "3088e215-714b-4dd1-bf7a-c8b5dff1f567",
   "metadata": {},
   "outputs": [
    {
     "data": {
      "text/html": [
       "<div>\n",
       "<style scoped>\n",
       "    .dataframe tbody tr th:only-of-type {\n",
       "        vertical-align: middle;\n",
       "    }\n",
       "\n",
       "    .dataframe tbody tr th {\n",
       "        vertical-align: top;\n",
       "    }\n",
       "\n",
       "    .dataframe thead th {\n",
       "        text-align: right;\n",
       "    }\n",
       "</style>\n",
       "<table border=\"1\" class=\"dataframe\">\n",
       "  <thead>\n",
       "    <tr style=\"text-align: right;\">\n",
       "      <th></th>\n",
       "      <th>genre</th>\n",
       "      <th>year</th>\n",
       "    </tr>\n",
       "  </thead>\n",
       "  <tbody>\n",
       "    <tr>\n",
       "      <th>0</th>\n",
       "      <td>Action, Adventure, Sci-Fi</td>\n",
       "      <td>2015</td>\n",
       "    </tr>\n",
       "    <tr>\n",
       "      <th>1</th>\n",
       "      <td>Action, Adventure, Sci-Fi</td>\n",
       "      <td>2015</td>\n",
       "    </tr>\n",
       "    <tr>\n",
       "      <th>2</th>\n",
       "      <td>Action, Adventure, Sci-Fi</td>\n",
       "      <td>2015</td>\n",
       "    </tr>\n",
       "    <tr>\n",
       "      <th>4</th>\n",
       "      <td>Action, Adventure, Sci-Fi</td>\n",
       "      <td>2015</td>\n",
       "    </tr>\n",
       "    <tr>\n",
       "      <th>5</th>\n",
       "      <td>Action, Adventure, Sci-Fi</td>\n",
       "      <td>2015</td>\n",
       "    </tr>\n",
       "  </tbody>\n",
       "</table>\n",
       "</div>"
      ],
      "text/plain": [
       "                       genre  year\n",
       "0  Action, Adventure, Sci-Fi  2015\n",
       "1  Action, Adventure, Sci-Fi  2015\n",
       "2  Action, Adventure, Sci-Fi  2015\n",
       "4  Action, Adventure, Sci-Fi  2015\n",
       "5  Action, Adventure, Sci-Fi  2015"
      ]
     },
     "execution_count": 182,
     "metadata": {},
     "output_type": "execute_result"
    }
   ],
   "source": [
    "X = df_merged2[['genre', 'year']]\n",
    "y = df_merged2['rating']\n",
    "X.head(5)"
   ]
  },
  {
   "cell_type": "code",
   "execution_count": 184,
   "id": "63f61e90-ac97-43ac-85e4-97f0e0ac025e",
   "metadata": {},
   "outputs": [
    {
     "data": {
      "text/plain": [
       "0    6.9\n",
       "1    6.9\n",
       "2    6.9\n",
       "4    6.9\n",
       "5    6.9\n",
       "Name: rating, dtype: float64"
      ]
     },
     "execution_count": 184,
     "metadata": {},
     "output_type": "execute_result"
    }
   ],
   "source": [
    "y.head(5)"
   ]
  },
  {
   "cell_type": "code",
   "execution_count": 186,
   "id": "898c1eff-4bfd-4e1c-a6a6-c8b7ea7d4401",
   "metadata": {},
   "outputs": [
    {
     "name": "stdout",
     "output_type": "stream",
     "text": [
      "RMSE: 0.2821990284281754\n",
      "R²: 0.7941072519126429\n"
     ]
    }
   ],
   "source": [
    "# Cathegoric gender\n",
    "preprocessor = ColumnTransformer(\n",
    "    transformers=[\n",
    "        ('genre', OneHotEncoder(handle_unknown='ignore'),['genre'])\n",
    "    ],\n",
    "    remainder='passthrough')\n",
    "\n",
    "# Pipeline preprocess + model\n",
    "model = Pipeline(steps = [\n",
    "    ('preprocessor', preprocessor),\n",
    "    ('regressor', RandomForestRegressor(n_estimators=100, random_state=42))\n",
    "])\n",
    "\n",
    "#Split data\n",
    "X_train, X_test, y_train, y_test = train_test_split(X, y, test_size = 0.2, random_state = 42)\n",
    "\n",
    "# Train\n",
    "model.fit(X_train, y_train)\n",
    "\n",
    "# Predict\n",
    "y_pred = model.predict(X_test)\n",
    "\n",
    "print('RMSE:', np.sqrt(mean_squared_error(y_test, y_pred)))\n",
    "print('R²:', r2_score(y_test, y_pred))"
   ]
  },
  {
   "cell_type": "code",
   "execution_count": null,
   "id": "886295c8-8bb3-4ead-b8a9-ce7307adc7a7",
   "metadata": {},
   "outputs": [],
   "source": []
  }
 ],
 "metadata": {
  "kernelspec": {
   "display_name": "Python 3 (ipykernel)",
   "language": "python",
   "name": "python3"
  },
  "language_info": {
   "codemirror_mode": {
    "name": "ipython",
    "version": 3
   },
   "file_extension": ".py",
   "mimetype": "text/x-python",
   "name": "python",
   "nbconvert_exporter": "python",
   "pygments_lexer": "ipython3",
   "version": "3.12.3"
  }
 },
 "nbformat": 4,
 "nbformat_minor": 5
}
